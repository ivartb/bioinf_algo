{
  "nbformat": 4,
  "nbformat_minor": 0,
  "metadata": {
    "colab": {
      "name": "ArtemIvanov.ipynb",
      "provenance": []
    },
    "kernelspec": {
      "name": "python3",
      "display_name": "Python 3"
    }
  },
  "cells": [
    {
      "cell_type": "code",
      "metadata": {
        "id": "ezPwFnDta1EV"
      },
      "source": [
        "w1 = [[1,-1,-2,-1],\n",
        "     [-1,1,-1,-1],\n",
        "     [-1,-1,1,-1],\n",
        "     [-1,-1,-1,1]]\n",
        "\n",
        "w2 = [[1,-5,-2,-1],\n",
        "     [-1,1,-1,-1],\n",
        "     [-1,-1,1,-1],\n",
        "     [-1,-1,-1,1]]\n",
        "\n",
        "index = dict(zip(\"AGC-\", range(4)))"
      ],
      "execution_count": 7,
      "outputs": []
    },
    {
      "cell_type": "code",
      "metadata": {
        "id": "4duhAAdMbgXD"
      },
      "source": [
        "def align(s, t, w):\n",
        "  n = len(s)\n",
        "  m = len(t)\n",
        "\n",
        "  matrix = [[0]*(n+1) for _ in range(m+1)]\n",
        "  matrix[0] = [-i for i in range(n+1)]\n",
        "  for i in range(1, m+1):\n",
        "      matrix[i][0] = -i\n",
        "      for j in range(1, n+1):\n",
        "          matrix[i][j] = max(matrix[i-1][j-1] + w[index[s[j-1]]][index[t[i-1]]],\n",
        "                             matrix[i-1][j] + w[index['-']][index[t[i-1]]], matrix[i][j-1] + w[index[s[j-1]]][index['-']])\n",
        "\n",
        "  i = m\n",
        "  j = n\n",
        "  a = \"\"\n",
        "  b = \"\"\n",
        "  while i>0 or j>0:\n",
        "      if j>0 and i>0 and matrix[i][j] == matrix[i-1][j-1] + w[index[s[j-1]]][index[t[i-1]]]:\n",
        "          a += s[j-1]\n",
        "          b += t[i-1]\n",
        "          i -= 1\n",
        "          j -= 1\n",
        "      elif i>0 and matrix[i][j] == matrix[i-1][j] + w[index['-']][index[t[i-1]]]:\n",
        "          a += '-'\n",
        "          b += t[i-1]\n",
        "          i -= 1\n",
        "      elif j > 0 and matrix[i][j] == matrix[i][j-1] + w[index[s[j-1]]][index['-']]:\n",
        "          a += s[j-1]\n",
        "          b += '-'\n",
        "          j -= 1\n",
        "      else:\n",
        "          raise 1\n",
        "\n",
        "  return (a[::-1], b[::-1])"
      ],
      "execution_count": 8,
      "outputs": []
    },
    {
      "cell_type": "code",
      "metadata": {
        "id": "BPFVv0LjbZFv",
        "outputId": "3cf30085-5e13-4f47-a2a8-e505c10b6890",
        "colab": {
          "base_uri": "https://localhost:8080/",
          "height": 50
        }
      },
      "source": [
        "s = \"A\"\n",
        "t = \"GC\"\n",
        "\n",
        "print(align(s, t, w1))\n",
        "print(align(s, t, w2))"
      ],
      "execution_count": 9,
      "outputs": [
        {
          "output_type": "stream",
          "text": [
            "('A-', 'GC')\n",
            "('-A', 'GC')\n"
          ],
          "name": "stdout"
        }
      ]
    }
  ]
}