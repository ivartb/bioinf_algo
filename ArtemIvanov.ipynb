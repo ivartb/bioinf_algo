{
  "nbformat": 4,
  "nbformat_minor": 0,
  "metadata": {
    "colab": {
      "name": "ArtemIvanov.ipynb",
      "provenance": [],
      "collapsed_sections": []
    },
    "kernelspec": {
      "name": "python3",
      "display_name": "Python 3"
    }
  },
  "cells": [
    {
      "cell_type": "code",
      "metadata": {
        "id": "ezPwFnDta1EV"
      },
      "source": [
        "w1 = [[1,-1,-2,-1],\n",
        "     [-1,1,-1,-1],\n",
        "     [-1,-1,1,-1],\n",
        "     [-1,-1,-1,1]]\n",
        "\n",
        "w2 = [[1,-5,-2,-1],\n",
        "     [-1,1,-1,-1],\n",
        "     [-1,-1,1,-1],\n",
        "     [-1,-1,-1,1]]\n",
        "\n",
        "index = dict(zip(\"AGC-\", range(4)))"
      ],
      "execution_count": 4,
      "outputs": []
    },
    {
      "cell_type": "code",
      "metadata": {
        "id": "4duhAAdMbgXD"
      },
      "source": [
        "def align(s, t, w):\n",
        "  n = len(s)\n",
        "  m = len(t)\n",
        "\n",
        "  matrix = [[0]*(n+1) for _ in range(m+1)]\n",
        "  matrix[0] = [-i for i in range(n+1)]\n",
        "  for i in range(1, m+1):\n",
        "      matrix[i][0] = -i\n",
        "      for j in range(1, n+1):\n",
        "          matrix[i][j] = max(matrix[i-1][j-1] + w[index[s[j-1]]][index[t[i-1]]],\n",
        "                             matrix[i-1][j] + w[index['-']][index[t[i-1]]], matrix[i][j-1] + w[index[s[j-1]]][index['-']])\n",
        "\n",
        "  i = m\n",
        "  j = n\n",
        "  a = \"\"\n",
        "  b = \"\"\n",
        "  while i>0 or j>0:\n",
        "      if j>0 and i>0 and matrix[i][j] == matrix[i-1][j-1] + w[index[s[j-1]]][index[t[i-1]]]:\n",
        "          a += s[j-1]\n",
        "          b += t[i-1]\n",
        "          i -= 1\n",
        "          j -= 1\n",
        "      elif i>0 and matrix[i][j] == matrix[i-1][j] + w[index['-']][index[t[i-1]]]:\n",
        "          a += '-'\n",
        "          b += t[i-1]\n",
        "          i -= 1\n",
        "      elif j > 0 and matrix[i][j] == matrix[i][j-1] + w[index[s[j-1]]][index['-']]:\n",
        "          a += s[j-1]\n",
        "          b += '-'\n",
        "          j -= 1\n",
        "      else:\n",
        "          raise 1\n",
        "\n",
        "  return (a[::-1], b[::-1])"
      ],
      "execution_count": 5,
      "outputs": []
    },
    {
      "cell_type": "code",
      "metadata": {
        "id": "BPFVv0LjbZFv",
        "outputId": "083272f1-e8cb-43b8-842c-04a89c5c4434",
        "colab": {
          "base_uri": "https://localhost:8080/",
          "height": 50
        }
      },
      "source": [
        "s = \"A\"\n",
        "t = \"GC\"\n",
        "\n",
        "print(align(s, t, w1))\n",
        "print(align(s, t, w2))"
      ],
      "execution_count": 6,
      "outputs": [
        {
          "output_type": "stream",
          "text": [
            "('A-', 'GC')\n",
            "('-A', 'GC')\n"
          ],
          "name": "stdout"
        }
      ]
    },
    {
      "cell_type": "markdown",
      "metadata": {
        "id": "9DnYLMV8MsVE"
      },
      "source": [
        "#**Update** "
      ]
    },
    {
      "cell_type": "code",
      "metadata": {
        "id": "U75k8ZEtMWyd"
      },
      "source": [
        "w1 = [[1,-1,-2,-1],\n",
        "     [-1,1,-1,-1],\n",
        "     [-2,-1,1,-1],\n",
        "     [-1,-1,-1,1]]\n",
        "\n",
        "w2 = [[1,-5,-2,-1],\n",
        "     [-5,1,-1,-1],\n",
        "     [-2,-1,1,-1],\n",
        "     [-1,-1,-1,1]]\n",
        "\n",
        "index = dict(zip(\"AGC-\", range(4)))"
      ],
      "execution_count": 7,
      "outputs": []
    },
    {
      "cell_type": "code",
      "metadata": {
        "id": "NWlvDucYM9XY",
        "outputId": "33e694be-78c6-4da3-d3f8-92f0c8586516",
        "colab": {
          "base_uri": "https://localhost:8080/",
          "height": 50
        }
      },
      "source": [
        "s = \"AC\"\n",
        "t = \"GC\"\n",
        "\n",
        "print(align(s, t, w1))\n",
        "print(align(s, t, w2))"
      ],
      "execution_count": 8,
      "outputs": [
        {
          "output_type": "stream",
          "text": [
            "('AC', 'GC')\n",
            "('A-C', '-GC')\n"
          ],
          "name": "stdout"
        }
      ]
    }
  ]
}